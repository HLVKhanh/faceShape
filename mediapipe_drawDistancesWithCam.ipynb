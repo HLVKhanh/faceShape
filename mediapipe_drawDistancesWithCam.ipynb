{
 "cells": [
  {
   "cell_type": "markdown",
   "metadata": {
    "id": "eFzvt5H3sGlm"
   },
   "source": [
    "## **MEDIAPIPE face mesh**"
   ]
  },
  {
   "cell_type": "markdown",
   "metadata": {
    "id": "u76h_esAsN4T"
   },
   "source": [
    "link: https://google.github.io/mediapipe/solutions/face_mesh"
   ]
  },
  {
   "cell_type": "markdown",
   "metadata": {
    "id": "vcH1UhPCsZs_"
   },
   "source": [
    "**Configuration Options**\n",
    "\n",
    "1.  **STATIC_IMAGE_MODE**\n",
    "*   = False → treats input as a video\n",
    "MAX_NUM_FACES\n",
    "2.  **MAX_NUM_FACES** \n",
    "* Maximum number of faces to detect\n",
    "3.   **REFINE_LANDMARKS**\n",
    "*  tinh chỉnh thêm tọa độ mốc xung quanh mắt và môi\n",
    "*  xuất ra các mốc bổ sung xung quanh tròng đen\n",
    "4. **MIN_DETECTION_CONFIDENCE**\n",
    "* confidence from the *face detection model* for the detection  \n",
    "5. **MIN_TRACKING_CONFIDENCE**\n",
    "* confidence from the *landmark-tracking model* for landmarks\n",
    "\n"
   ]
  },
  {
   "cell_type": "markdown",
   "metadata": {
    "id": "2dZ18uu3um_w"
   },
   "source": [
    "**OUTPUTS:**\n",
    "* detected faceS\n",
    "  * 1 face = list of landmarks\n",
    "      * 1 landmark = x, y, z\n",
    "\n"
   ]
  },
  {
   "cell_type": "code",
   "execution_count": 4,
   "metadata": {
    "colab": {
     "base_uri": "https://localhost:8080/"
    },
    "id": "K6rMjIYfvZFM",
    "outputId": "738ced03-1674-4ed3-f121-fa9750b52e2b"
   },
   "outputs": [],
   "source": [
    "import cv2\n",
    "import mediapipe as mp\n",
    "\n",
    "# utils for drawing on image\n",
    "mp_drawing = mp.solutions.drawing_utils\n",
    "mp_drawing_styles = mp.solutions.drawing_styles\n",
    "\n",
    "#face_mesh\n",
    "mp_face_mesh = mp.solutions.face_mesh\n",
    "face_mesh=mp_face_mesh.FaceMesh\n",
    "cap = cv2.VideoCapture(0)"
   ]
  },
  {
   "cell_type": "code",
   "execution_count": 7,
   "metadata": {},
   "outputs": [],
   "source": [
    "import cv2\n",
    "import mediapipe as mp\n",
    "\n",
    "# utils for drawing on image\n",
    "mp_drawing = mp.solutions.drawing_utils\n",
    "mp_drawing_styles = mp.solutions.drawing_styles\n",
    "#face_mesh\n",
    "mp_face_mesh = mp.solutions.face_mesh\n",
    "face_mesh = mp_face_mesh.FaceMesh\n",
    "khanh=[]\n",
    "import math\n",
    "\n",
    "cap = cv2.VideoCapture(0)\n",
    "with mp_face_mesh.FaceMesh(max_num_faces=1, refine_landmarks=True, min_detection_confidence=0.5, min_tracking_confidence=0.5) as face_mesh:\n",
    "  while cap.isOpened():\n",
    "    success, image = cap.read()\n",
    "    image = cv2.flip(image,1)\n",
    "    \n",
    "    w  = cap.get(cv2.CAP_PROP_FRAME_WIDTH)   # float `width`\n",
    "    h = cap.get(cv2.CAP_PROP_FRAME_HEIGHT)  # float `height`\n",
    "    \n",
    "    if not success:\n",
    "      print(\"Ignoring empty camera frame.\")\n",
    "      # If loading a video, use 'break' instead of 'continue'.\n",
    "      continue\n",
    "    # To improve performance, optionally mark the image as not writeable to\n",
    "    # pass by reference.\n",
    "    image.flags.writeable = False\n",
    "    results = face_mesh.process(cv2.cvtColor(image, cv2.COLOR_BGR2RGB))\n",
    "    face_landmarks = results.multi_face_landmarks\n",
    "    \n",
    "    if results.multi_face_landmarks is not None:\n",
    "        for face_landmarks in results.multi_face_landmarks:\n",
    "            khanh.append(face_landmarks)\n",
    "\n",
    "   #def function\n",
    "    def take_landmark(num):\n",
    "        results = [face_landmarks.landmark[num].x * w, face_landmarks.landmark[num].y * h,face_landmarks.landmark[num].z * w]\n",
    "        return results\n",
    "    def take_distance(num1,num2):\n",
    "        distances = math.sqrt((face_landmarks.landmark[num1].x *w- face_landmarks.landmark[num2].x *w)**2 +(face_landmarks.landmark[num1].y *h- face_landmarks.landmark[num2].y*h)**2+(face_landmarks.landmark[num1].z*w- face_landmarks.landmark[num2].z*w)**2 )\n",
    "        return distances\n",
    "    def draw_line(num1,num2):\n",
    "        color=(255, 0, 0)\n",
    "        return cv2.line(image,(int(take_landmark(num1)[0]),int(take_landmark(num1)[1])),(int(take_landmark(num2)[0]),int(take_landmark(num2)[1])),color,1)\n",
    "    def put_text(distance,a1,a2):\n",
    "        return cv2.putText(image,str(distance),(a1,a2), cv2.FONT_HERSHEY_SIMPLEX, 1, (255,0,0), 1)\n",
    "           \n",
    "    #Đường kính mắt: 474,476\n",
    "    diameter_mm=11.2/take_distance(474,476) \n",
    "\n",
    "    # Face Length: 152, 10\n",
    "    facelength_distance = take_distance(152,10)*diameter_mm\n",
    "\n",
    "    ## Iris: 473, 468\n",
    "    pd_distance=take_distance(473,468)*diameter_mm\n",
    "\n",
    "    ## FOREHEAD: 54, 333\n",
    "    forehead_distance=take_distance(54,333)*diameter_mm\n",
    "\n",
    "    # JAWLINE: 58, 433\n",
    "    jawline_distance=take_distance(58,433)*diameter_mm\n",
    "\n",
    "    # OUTER EYE: 130, 359\n",
    "    outereye_distance=take_distance(130,359)*diameter_mm\n",
    "\n",
    "    #INNER EYE: 112, 362\n",
    "    innereye_distance=take_distance(112,363)*diameter_mm\n",
    "\n",
    "    #CHEEKBONE: 227, 454\n",
    "    cheekbone_distance1=take_distance(227,454)\n",
    "    cheekbone_distance=take_distance(93,132)+take_distance(132,58)+take_distance(58,172)+take_distance(136,172)+take_distance(136,150)+take_distance(150,149)+take_distance(149,176)+take_distance(176,152)+take_distance(152,337)+take_distance(337,400)+take_distance(400,378)+take_distance(378,379)+take_distance(379,365)+take_distance(365,397)+take_distance(397,361)+take_distance(361,323)\n",
    "    cheekbone_distance=cheekbone_distance*diameter_mm\n",
    "\n",
    "    #TEMPLE WIDTH: 127, 372 \n",
    "    templewidth_distance=take_distance(127,372)\n",
    "\n",
    "    if results.multi_face_landmarks is not None:\n",
    "        for face_landmarks in results.multi_face_landmarks:\n",
    "            #cv2.circle(annotated_image, ( int(forehead_left[0]),int(forehead_left[1]) ), 5, (255,255,0), -2)\n",
    "            # draw LINE\n",
    "            draw_line(152,10) ## Face Length: 152, 10\n",
    "            draw_line(54,333) ## FOREHEAD: 54, 333\n",
    "            draw_line(473,468) ## Iris: 473, 468\n",
    "            draw_line(130,359) # OUTER EYE: 130, 359\n",
    "            draw_line(112,362) #INNER EYE: 112, 362\n",
    "            draw_line(127,372) #TEMPLE WIDTH: 127, 372 \n",
    "            # cheeck bone\n",
    "            draw_line(93,132);draw_line(132,58);draw_line(58,172);draw_line(172,136);draw_line(136,150);draw_line(150,149);draw_line(149,176);draw_line(176,148);draw_line(148,152)\n",
    "            draw_line(152,377);draw_line(377,400);draw_line(400,378);draw_line(378,379);draw_line(379,365);draw_line(365,397);draw_line(397,361);draw_line(361,323)\n",
    "\n",
    "            cv2.putText(image,str(facelength_distance),(50,50), cv2.FONT_HERSHEY_SIMPLEX, 1, (255,0,0), 1)\n",
    "            cv2.putText(image,str(forehead_distance),(50,150), cv2.FONT_HERSHEY_SIMPLEX, 1, (255,0,0), 1)\n",
    "            cv2.putText(image,str(jawline_distance),(50,250), cv2.FONT_HERSHEY_SIMPLEX, 1, (255,0,0), 1)\n",
    "            cv2.putText(image,str(cheekbone_distance),(50,350), cv2.FONT_HERSHEY_SIMPLEX, 1, (255,0,0), 1)\n",
    "            #cv2.putText(image,str(pd_distance),(50,150), cv2.FONT_HERSHEY_SIMPLEX, 1, (255,0,0), 1)\n",
    "            #cv2.putText(image,str(outereye_distance),(50,350), cv2.FONT_HERSHEY_SIMPLEX, 1, (255,0,0), 1)\n",
    "            #cv2.putText(image,str(innereye_distance),(50,450), cv2.FONT_HERSHEY_SIMPLEX, 1, (255,0,0), 1)\n",
    "            #cv2.putText(image,str(templewidth_distance),(50,650), cv2.FONT_HERSHEY_SIMPLEX, 1, (255,0,0), 1)\n",
    "    # Flip the image horizontally for a selfie-view display.\n",
    "    cv2.imshow('MediaPipe Face Mesh', image)\n",
    "    if cv2.waitKey(1) & 0xFF == ord('q'):\n",
    "        break\n",
    "  \n",
    "cap.release() # release the cap object\n",
    "cv2.destroyAllWindows() # close all windows"
   ]
  }
 ],
 "metadata": {
  "colab": {
   "name": "19.7_MediaPipe_Face Mesh",
   "provenance": []
  },
  "kernelspec": {
   "display_name": "Python 3 (ipykernel)",
   "language": "python",
   "name": "python3"
  },
  "language_info": {
   "codemirror_mode": {
    "name": "ipython",
    "version": 3
   },
   "file_extension": ".py",
   "mimetype": "text/x-python",
   "name": "python",
   "nbconvert_exporter": "python",
   "pygments_lexer": "ipython3",
   "version": "3.9.5"
  },
  "vscode": {
   "interpreter": {
    "hash": "8f8cf99212f81ad0c4765861267244807ee1c18364846cdce387b28994a977ba"
   }
  }
 },
 "nbformat": 4,
 "nbformat_minor": 1
}
